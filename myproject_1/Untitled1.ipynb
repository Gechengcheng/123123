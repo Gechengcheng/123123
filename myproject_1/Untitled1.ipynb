{
 "cells": [
  {
   "cell_type": "code",
   "execution_count": 4,
   "metadata": {
    "collapsed": true
   },
   "outputs": [],
   "source": [
    "import os \n",
    "os.chdir(r\"D:\\gechengcheng3\\Downloads\")\n",
    "import pandas as pd\n",
    "import numpy as np"
   ]
  },
  {
   "cell_type": "code",
   "execution_count": 8,
   "metadata": {},
   "outputs": [
    {
     "data": {
      "text/html": [
       "<div>\n",
       "<style>\n",
       "    .dataframe thead tr:only-child th {\n",
       "        text-align: right;\n",
       "    }\n",
       "\n",
       "    .dataframe thead th {\n",
       "        text-align: left;\n",
       "    }\n",
       "\n",
       "    .dataframe tbody tr th {\n",
       "        vertical-align: top;\n",
       "    }\n",
       "</style>\n",
       "<table border=\"1\" class=\"dataframe\">\n",
       "  <thead>\n",
       "    <tr style=\"text-align: right;\">\n",
       "      <th></th>\n",
       "      <th>dt</th>\n",
       "      <th>dept_id</th>\n",
       "      <th>dept_name</th>\n",
       "      <th>jd_cate_id_1</th>\n",
       "      <th>jd_cate_name_1</th>\n",
       "      <th>jd_cate_id_2</th>\n",
       "      <th>jd_cate_name_2</th>\n",
       "      <th>jd_cate_id_3</th>\n",
       "      <th>jd_cate_name_3</th>\n",
       "      <th>sale</th>\n",
       "      <th>gmv</th>\n",
       "    </tr>\n",
       "  </thead>\n",
       "  <tbody>\n",
       "    <tr>\n",
       "      <th>0</th>\n",
       "      <td>2019-01</td>\n",
       "      <td>33</td>\n",
       "      <td>消费品事业部</td>\n",
       "      <td>6994</td>\n",
       "      <td>宠物生活</td>\n",
       "      <td>13968</td>\n",
       "      <td>水族</td>\n",
       "      <td>13974</td>\n",
       "      <td>水族药剂</td>\n",
       "      <td>237423</td>\n",
       "      <td>1.083134e+07</td>\n",
       "    </tr>\n",
       "    <tr>\n",
       "      <th>1</th>\n",
       "      <td>2019-01</td>\n",
       "      <td>33</td>\n",
       "      <td>消费品事业部</td>\n",
       "      <td>6994</td>\n",
       "      <td>宠物生活</td>\n",
       "      <td>13968</td>\n",
       "      <td>水族</td>\n",
       "      <td>17322</td>\n",
       "      <td>照明设备</td>\n",
       "      <td>50828</td>\n",
       "      <td>4.848414e+06</td>\n",
       "    </tr>\n",
       "    <tr>\n",
       "      <th>2</th>\n",
       "      <td>2019-01</td>\n",
       "      <td>33</td>\n",
       "      <td>消费品事业部</td>\n",
       "      <td>6994</td>\n",
       "      <td>宠物生活</td>\n",
       "      <td>13968</td>\n",
       "      <td>水族</td>\n",
       "      <td>17323</td>\n",
       "      <td>滤材/配件</td>\n",
       "      <td>384954</td>\n",
       "      <td>1.809283e+07</td>\n",
       "    </tr>\n",
       "    <tr>\n",
       "      <th>3</th>\n",
       "      <td>2019-01</td>\n",
       "      <td>33</td>\n",
       "      <td>消费品事业部</td>\n",
       "      <td>6994</td>\n",
       "      <td>宠物生活</td>\n",
       "      <td>13968</td>\n",
       "      <td>水族</td>\n",
       "      <td>17324</td>\n",
       "      <td>海水用品</td>\n",
       "      <td>150794</td>\n",
       "      <td>3.275979e+06</td>\n",
       "    </tr>\n",
       "    <tr>\n",
       "      <th>4</th>\n",
       "      <td>2019-01</td>\n",
       "      <td>33</td>\n",
       "      <td>消费品事业部</td>\n",
       "      <td>6994</td>\n",
       "      <td>宠物生活</td>\n",
       "      <td>14374</td>\n",
       "      <td>宠物活体</td>\n",
       "      <td>14376</td>\n",
       "      <td>猫咪活体</td>\n",
       "      <td>0</td>\n",
       "      <td>0.000000e+00</td>\n",
       "    </tr>\n",
       "  </tbody>\n",
       "</table>\n",
       "</div>"
      ],
      "text/plain": [
       "        dt  dept_id dept_name  jd_cate_id_1 jd_cate_name_1  jd_cate_id_2  \\\n",
       "0  2019-01       33    消费品事业部          6994           宠物生活         13968   \n",
       "1  2019-01       33    消费品事业部          6994           宠物生活         13968   \n",
       "2  2019-01       33    消费品事业部          6994           宠物生活         13968   \n",
       "3  2019-01       33    消费品事业部          6994           宠物生活         13968   \n",
       "4  2019-01       33    消费品事业部          6994           宠物生活         14374   \n",
       "\n",
       "  jd_cate_name_2  jd_cate_id_3 jd_cate_name_3    sale           gmv  \n",
       "0             水族         13974           水族药剂  237423  1.083134e+07  \n",
       "1             水族         17322           照明设备   50828  4.848414e+06  \n",
       "2             水族         17323          滤材/配件  384954  1.809283e+07  \n",
       "3             水族         17324           海水用品  150794  3.275979e+06  \n",
       "4           宠物活体         14376           猫咪活体       0  0.000000e+00  "
      ]
     },
     "execution_count": 8,
     "metadata": {},
     "output_type": "execute_result"
    }
   ],
   "source": [
    "data = pd.read_csv(r\"gcc_cat_new_20200805174531.csv\",sep=\"\\t\",encoding=\"utf8\")\n",
    "data.head()"
   ]
  },
  {
   "cell_type": "code",
   "execution_count": 16,
   "metadata": {},
   "outputs": [
    {
     "data": {
      "text/plain": [
       "MultiIndex(levels=[['sale', 'gmv'], ['sum']],\n",
       "           labels=[[0, 1], [0, 0]])"
      ]
     },
     "execution_count": 16,
     "metadata": {},
     "output_type": "execute_result"
    }
   ],
   "source": [
    "data_mean_product_price = data.groupby([\"dt\"])[\"sale\",\"gmv\"].agg([np.sum])\n",
    "data_mean_product_price.columns"
   ]
  },
  {
   "cell_type": "code",
   "execution_count": null,
   "metadata": {
    "collapsed": true
   },
   "outputs": [],
   "source": [
    "data_mean_product_price[\"mean_price\"] = data_mean_product_price[\"\"]"
   ]
  }
 ],
 "metadata": {
  "kernelspec": {
   "display_name": "Python 3",
   "language": "python",
   "name": "python3"
  }
 },
 "nbformat": 4,
 "nbformat_minor": 2
}
